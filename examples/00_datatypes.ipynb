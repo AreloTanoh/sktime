{
 "cells": [
  {
   "cell_type": "markdown",
   "metadata": {},
   "source": [
    "**Set-up instructions:** this notebook give a tutorial on the forecasting learning task supported by `sktime`.\n",
    "On binder, this should run out-of-the-box.\n",
    "\n",
    "To run this notebook as intended, ensure that `sktime` with basic dependency requirements is installed in your python environment.\n",
    "\n",
    "To run this notebook with a local development version of sktime, either uncomment and run the below, or `pip install -e` a local clone of the `sktime` `main` branch."
   ]
  },
  {
   "cell_type": "code",
   "execution_count": null,
   "metadata": {},
   "outputs": [],
   "source": [
    "# from os import sys\r\n",
    "# sys.path.append(\"..\")"
   ]
  },
  {
   "cell_type": "markdown",
   "metadata": {},
   "source": [
    "# In-memory data representations and data loading\r\n",
    "\r\n",
    "`sktime` provides modules for a number of time series related learning tasks.\r\n",
    "\r\n",
    "These modules use `sktime` specific in-memory (i.e., python workspace) representations for time series and related objects, most importantly individual time series and time series panels. `sktime`'s in-memory representations rely on `pandas` and `numpy`, with additional conventions on the `pandas` and `numpy` object.\r\n",
    "\r\n",
    "Users of `sktime` should be aware of these representations, since presenting the data in an `sktime` compatible representation is usually the first step in using any of the `sktime` modules.\r\n",
    "\r\n",
    "This notebook introduces the data types used in `sktime`, related functionality such as converters and validity checkers, and common workflows for loading and conversion:\r\n",
    "\r\n",
    "**Section 1** introduces in-memory data containers used in `sktime`, with examples.\r\n",
    "\r\n",
    "**Section 2** introduces validity checkers and conversion functionality for in-memory data containers.\r\n",
    "\r\n",
    "**Section 3** introduces common workflows to load data from file formats"
   ]
  },
  {
   "cell_type": "markdown",
   "metadata": {},
   "source": [
    "## Section 1: in-memory data containers\r\n",
    "\r\n",
    "This section provides a reference to data containers used for time series and related objets in `sktime`.\r\n",
    "\r\n",
    "Conceptually, `sktime` distinguishes:\r\n",
    "\r\n",
    "* the *scientific type* (or short: scitype) of a data container, defined by relational and statistical properties of the data being represented - for instance, a (scientific) \"time series\" or a (scientific) \"time series panel\", in the mathematical-abstract sense, without specifying a machine representation\r\n",
    "* the *machine type* (or short: mtype) of a data container, which, for a defined *scientific type*, specifies the python type and conventions on structure and value of the python in-memory object. For instance, a specific (scientific) time series is represented by a concrete `pandas.DataFrame` in `sktime`, subject to certain conventions on the `pandas.DataFrame`. Formally, these conventions form a specific mtype, i.e., a way to represent the (abstract) \"time series\" scitype.\r\n",
    "\r\n",
    "In `sktime`, the same scitype can be represented by multiple mtypes. For instance, `sktime` allows the user to specify time series as `pandas.DataFrame`, as `pandas.Series`, or as a `numpy.ndarray`. These are different mtypes which are admissible representations of the same scitype, \"time series\". Also, not all mtypes are equally rich in metadata - for instance, `pandas.DataFrame` can store column names, while this is not possible in `numpy.ndarray`.\r\n",
    "\r\n",
    "Both scitypes and mtypes are encoded by strings in `sktime`, for easy reference.\r\n",
    "\r\n",
    "This section introduces the mtypes for the following scitypes:\r\n",
    "* `\"Series\"`, the `sktime` scitype for time series of any kind\r\n",
    "* `\"Panel\"`, the `sktime` scitype for time series panels of any kind"
   ]
  },
  {
   "cell_type": "markdown",
   "metadata": {},
   "source": [
    "### Section 1.1: Time series - the `\"Series\"` scitype\r\n",
    "\r\n",
    "The major representations of time series in `sktime` are:\r\n",
    "\r\n",
    "* `\"pd.DataFrame\"` - a uni- or multivariate `pandas.DataFrame`, with rows = time points, cols = variables\r\n",
    "* `\"pd.Series\"` - a (univariate) `pandas.Series`, with entries corresponding to different time points\r\n",
    "* `\"np.ndarray\"` - a 2D `numpy.ndarray`, with rows = time points, cols = variables\r\n",
    "\r\n",
    "`pandas` objects must have one of the following `pandas` index types:\r\n",
    "`Int64Index`, `RangeIndex`, `DatetimeIndex`, `PeriodIndex`; if `DatetimeIndex`, the `freq` attribute must be set.\r\n",
    "\r\n",
    "`numpy.ndarray` 2D arrays are interpreted as having an `RangeIndex` on the rows, and generally equivalent to the `pandas.DataFrame` obtained after default coercion using the `pandas.DataFrame` constructor.\r\n"
   ]
  },
  {
   "cell_type": "code",
   "execution_count": null,
   "metadata": {},
   "outputs": [],
   "source": [
    "# import to retrieve examples\r\n",
    "from sktime.datatypes import get_examples"
   ]
  },
  {
   "cell_type": "markdown",
   "metadata": {},
   "source": [
    "### Section 1.1.1: Time series - the `\"pd.DataFrame\"` mtype\r\n",
    "\r\n",
    "In the `\"pd.DataFrame\"` mtype, time series are represented by an in-memory container `obj: pandas.DataFrame` as follows.\r\n",
    "\r\n",
    "* structure convention: `obj.index` must be monotonous, and one of `Int64Index`, `RangeIndex`, `DatetimeIndex`, `PeriodIndex`.\r\n",
    "* variables: columns of `obj` correspond to different variables\r\n",
    "* variable names: column names `obj.columns`\r\n",
    "* time points: rows of `obj` correspond to different, distinct time points\r\n",
    "* time index: `obj.index` is interpreted as a time index.\r\n",
    "* capabilities: can represent multivariate series; can represent unequally spaced series"
   ]
  },
  {
   "cell_type": "markdown",
   "metadata": {},
   "source": [
    "Example of a univariate series in `\"pd.DataFrame\"` representation.\r\n",
    "The single variable has name `\"a\"`, and is observed at four time points 0, 1, 2, 3."
   ]
  },
  {
   "cell_type": "code",
   "execution_count": null,
   "metadata": {},
   "outputs": [],
   "source": [
    "get_examples(mtype=\"pd.DataFrame\", as_scitype=\"Series\")[0]"
   ]
  },
  {
   "cell_type": "markdown",
   "metadata": {},
   "source": [
    "Example of a bivariate series in `\"pd.DataFrame\"` representation.\r\n",
    "This series has two variables, named `\"a\"` and `\"b\"`. Both are observed at the same four time points 0, 1, 2, 3."
   ]
  },
  {
   "cell_type": "code",
   "execution_count": null,
   "metadata": {},
   "outputs": [],
   "source": [
    "get_examples(mtype=\"pd.DataFrame\", as_scitype=\"Series\")[1]"
   ]
  },
  {
   "cell_type": "markdown",
   "metadata": {},
   "source": [
    "### Section 1.1.2: Time series - the `\"pd.Series\"` mtype\r\n",
    "\r\n",
    "In the `\"pd.Series\"` mtype, time series are represented by an in-memory container `obj: pandas.Series` as follows.\r\n",
    "\r\n",
    "* structure convention: `obj.index` must be monotonous, and one of `Int64Index`, `RangeIndex`, `DatetimeIndex`, `PeriodIndex`.\r\n",
    "* variables: there is a single variable, corresponding to the values of `obj`. Only univariate series can be represented.\r\n",
    "* variable names: by default, there is no column name. If needed, a variable name can be provided as `obj.name`.\r\n",
    "* time points: entries of `obj` correspond to different, distinct time points\r\n",
    "* time index: `obj.index` is interpreted as a time index.\r\n",
    "* capabilities: cannot represent multivariate series; can represent unequally spaced series"
   ]
  },
  {
   "cell_type": "markdown",
   "metadata": {},
   "source": [
    "Example of a univariate series in `\"pd.Series\"` mtype representation.\r\n",
    "The single variable has name `\"a\"`, and is observed at four time points 0, 1, 2, 3."
   ]
  },
  {
   "cell_type": "code",
   "execution_count": null,
   "metadata": {},
   "outputs": [],
   "source": [
    "get_examples(mtype=\"pd.Series\", as_scitype=\"Series\")[0]"
   ]
  },
  {
   "cell_type": "markdown",
   "metadata": {},
   "source": [
    "### Section 1.1.3: Time series - the `\"np.ndarray\"` mtype\r\n",
    "\r\n",
    "In the `\"np.ndarray\"` mtype, time series are represented by an in-memory container `obj: np.ndarray` as follows.\r\n",
    "\r\n",
    "* structure convention: `obj` must be 2D, i.e., `obj.shape` must have length 2. This is also true for univariate time series.\r\n",
    "* variables: variables correspond to columns of `obj`.\r\n",
    "* variable names: the `\"np.ndarray\"` mtype cannot represent variable names.\r\n",
    "* time points: the rows of `obj` correspond to different, distinct time points. \r\n",
    "* time index: The time index is implicit and by-convention. The `i`-th row (for an integer `i`) is interpreted as an observation at the time point `i`.\r\n",
    "* capabilities: cannot represent multivariate series; cannot represent unequally spaced series"
   ]
  },
  {
   "cell_type": "markdown",
   "metadata": {},
   "source": [
    "Example of a univariate series in `\"np.ndarray\"` mtype representation.\r\n",
    "There is a single (unnamed) variable, it is observed at four time points 0, 1, 2, 3."
   ]
  },
  {
   "cell_type": "code",
   "execution_count": null,
   "metadata": {},
   "outputs": [],
   "source": [
    "get_examples(mtype=\"np.ndarray\", as_scitype=\"Series\")[0]"
   ]
  },
  {
   "cell_type": "markdown",
   "metadata": {},
   "source": [
    "Example of a bivariate series in `\"np.ndarray\"` mtype representation.\r\n",
    "There are two (unnamed) variables, they are both observed at four time points 0, 1, 2, 3."
   ]
  },
  {
   "cell_type": "code",
   "execution_count": null,
   "metadata": {},
   "outputs": [],
   "source": [
    "get_examples(mtype=\"np.ndarray\", as_scitype=\"Series\")[1]"
   ]
  },
  {
   "cell_type": "markdown",
   "metadata": {},
   "source": [
    "### Section 1.2: Time series panels - the `\"Panel\"` scitype\r\n",
    "\r\n",
    "The major representations of time series panels in `sktime` are:\r\n",
    "\r\n",
    "* `\"pd-multiindex\"` - a `pandas.DataFrame`, with row multi-index (`instances`, `timepoints`), cols = variables\r\n",
    "* `\"numpy3D\"` - a 3D `np.ndarray`, with axis 0 = instances, axis 1 = variables, axis 2 = time points\r\n",
    "* `\"df-list\"` - a `list` of `pandas.DataFrame`, with list index = instances, data frame rows = time points, data frame cols = variables\r\n",
    "\r\n",
    "These representations are considered primary representations in `sktime` and are core to internal computations.\r\n",
    "\r\n",
    "There are further, minor representations of time series panels in `sktime`:\r\n",
    "\r\n",
    "* `\"nested_univ\"` - a `pandas.DataFrame`, with `pandas.Series` in cells. data frame rows = instances, data frame cols = variables, and series axis = time points\r\n",
    "* `\"numpyflat\"` - a 2D `np.ndarray` with rows = instances, and columns indexed by a pair index of (variables, time points). This format is only being converted to and cannot be converted from (since number of variables and time points may be ambiguous).\r\n",
    "* `\"pd-wide\"` - a `pandas.DataFrame` in wide format: has column multi-index (variables, time points), rows = instances\r\n",
    "* `\"pd-long\"` - a `pandas.DataFrame` in long format: has cols `instances`, `timepoints`, `variable`, `value`; entries in `value` are indexed by tuples of values in (`instances`, `timepoints`, `variable`).\r\n",
    "\r\n",
    "The minor representations are currently not fully consolidated in-code and are not discussed further below. Contributions are appreciated."
   ]
  },
  {
   "cell_type": "markdown",
   "metadata": {},
   "source": [
    "### Section 1.2.1: Time series panels - the `\"pd-multiindex\"` mtype\r\n",
    "\r\n",
    "In the `\"pd-multiindex\"` mtype, time series panels are represented by an in-memory container `obj: pandas.DataFrame` as follows.\r\n",
    "\r\n",
    "* structure convention: `obj.index` must be a pair multi-index of type `(RangeIndex, t)`, where `t` is one of `Int64Index`, `RangeIndex`, `DatetimeIndex`, `PeriodIndex` and monotonous. `obj.index` must have name `(\"instances\", \"timepoints\")`.\r\n",
    "* instances: rows with the same `\"instances\"` index correspond to the same instance; rows with different `\"instances\"` index correspond to different instances.\r\n",
    "* instance index: the first element of pairs in `obj.index` is interpreted as an instance index. \r\n",
    "* variables: columns of `obj` correspond to different variables\r\n",
    "* variable names: column names `obj.columns`\r\n",
    "* time points: rows of `obj` with the same `\"timepoints\"` index correspond correspond to the same time point; rows of `obj` with different `\"timepoints\"` index correspond correspond to the different time points.\r\n",
    "* time index: the second element of pairs in `obj.index` is interpreted as a time index. \r\n",
    "* capabilities: can represent panels of multivariate series; can represent unequally spaced series; can represent panels of unequally supported series; cannot represent panels of series with different sets of variables."
   ]
  },
  {
   "cell_type": "markdown",
   "metadata": {},
   "source": [
    "Example of a panel of multivariate series in `\"pd-multiindex\"` mtype representation.\r\n",
    "The panel contains three multivariate series, with instance indices 0, 1, 2. All series have two variables with names `\"var_0\"`, `\"var_1\"`. All series are observed at three time points 0, 1, 2."
   ]
  },
  {
   "cell_type": "code",
   "execution_count": null,
   "metadata": {},
   "outputs": [],
   "source": [
    "get_examples(mtype=\"pd-multiindex\", as_scitype=\"Panel\")[0]"
   ]
  },
  {
   "cell_type": "markdown",
   "metadata": {},
   "source": [
    "### Section 1.2.2: Time series panels - the `\"numpy3D\"` mtype\r\n",
    "\r\n",
    "In the `\"numpy3D\"` mtype, time series panels are represented by an in-memory container `obj: np.ndarray` as follows.\r\n",
    "\r\n",
    "* structure convention: `obj` must be 3D, i.e., `obj.shape` must have length 2.\r\n",
    "* instances: instances correspond to axis 0 elements of `obj`.\r\n",
    "* instance index: the instance index is implicit and by-convention. The `i`-th element of axis 0 (for an integer `i`) is interpreted as indicative of observing instance `i`. \r\n",
    "* variables: variables correspond to axis 1 elements of `obj`.\r\n",
    "* variable names: the `\"numpy3D\"` mtype cannot represent variable names.\r\n",
    "* time points: time points correspond to axis 2 elements of `obj`.\r\n",
    "* time index: the time index is implicit and by-convention. The `i`-th elemtn of axis 2 (for an integer `i`) is interpreted as an observation at the time point `i`.\r\n",
    "* capabilities: can represent panels of multivariate series; cannot represent unequally spaced series; cannot represent panels of unequally supported series; cannot represent panels of series with different sets of variables."
   ]
  },
  {
   "cell_type": "markdown",
   "metadata": {},
   "source": [
    "Example of a panel of multivariate series in `\"numpy3D\"` mtype representation.\r\n",
    "The panel contains three multivariate series, with instance indices 0, 1, 2. All series have two variables (unnamed). All series are observed at three time points 0, 1, 2."
   ]
  },
  {
   "cell_type": "code",
   "execution_count": null,
   "metadata": {},
   "outputs": [],
   "source": [
    "get_examples(mtype=\"numpy3D\", as_scitype=\"Panel\")[0]"
   ]
  },
  {
   "cell_type": "markdown",
   "metadata": {},
   "source": [
    "### Section 1.2.3: Time series panels - the `\"df-list\"` mtype\r\n",
    "\r\n",
    "In the `\"df-list\"` mtype, time series panels are represented by an in-memory container `obj: List[pandas.DataFrame]` as follows.\r\n",
    "\r\n",
    "* structure convention: `obj` must be a list of `pandas.DataFrames`. Individual list elements of `obj` must follow the `\"pd.DataFrame\"` mtype convention for the `\"Series\"` scitype.\r\n",
    "* instances: instances correspond to different list elements of `obj`.\r\n",
    "* instance index: the instance index of an instance is the list index at which it is located in `obj`. That is, the data at `obj[i]` correspond to observations of the instance with index `i`.\r\n",
    "* variables: columns of `obj[i]` correspond to different variables available for instance `i`.\r\n",
    "* variable names: column names `obj[i].columns` are the names of variables available for instance `i`.\r\n",
    "* time points: rows of `obj[i]` correspond to different, distinct time points, at which instance `i` is observed.\r\n",
    "* time index: `obj[i].index` is interpreted as the time index for instance `i`.\r\n",
    "* capabilities: can represent panels of multivariate series; can represent unequally spaced series; can represent panels of unequally supported series; can represent panels of series with different sets of variables."
   ]
  },
  {
   "cell_type": "markdown",
   "metadata": {},
   "source": [
    "Example of a panel of multivariate series in `\"df-list\"` mtype representation.\r\n",
    "The panel contains three multivariate series, with instance indices 0, 1, 2. All series have two variables with names `\"var_0\"`, `\"var_1\"`. All series are observed at three time points 0, 1, 2."
   ]
  },
  {
   "cell_type": "code",
   "execution_count": null,
   "metadata": {},
   "outputs": [],
   "source": [
    "get_examples(mtype=\"df-list\", as_scitype=\"Panel\")[0]"
   ]
  },
  {
   "cell_type": "markdown",
   "metadata": {},
   "source": [
    "## Section 2: validity checking and mtype conversion\r\n",
    "\r\n",
    "`sktime`'s `datatypes` module provides users with generic functionality for:\r\n",
    "\r\n",
    "* checking in-memory containers against mtype conventions, with informative error messages that help moving data to the right format\r\n",
    "* converting different mtypes to each other, for a given scitype\r\n",
    "\r\n",
    "In this section, this functionality and intended usage worfklows are presented.\r\n",
    "There is further validation functionality in the `utils` module, meant for internal use, as under-the-hood functionality or by developers; this is also quickly summarized at the end."
   ]
  },
  {
   "cell_type": "markdown",
   "metadata": {},
   "source": [
    "### Section 2.1: Preparing data, checking in-memory containers for validity\r\n"
   ]
  },
  {
   "cell_type": "code",
   "execution_count": null,
   "metadata": {},
   "outputs": [],
   "source": []
  }
 ],
 "metadata": {
  "hide_input": false,
  "interpreter": {
   "hash": "bc250fec99d1b72e5bb23d9fb06e1f1ac90e860438a1535c061277d2caf5ebfc"
  },
  "kernelspec": {
   "display_name": "Python 3.7.10 64-bit ('sktime': conda)",
   "name": "python3"
  },
  "language_info": {
   "name": "python",
   "version": ""
  },
  "latex_envs": {
   "LaTeX_envs_menu_present": true,
   "autoclose": false,
   "autocomplete": true,
   "bibliofile": "biblio.bib",
   "cite_by": "apalike",
   "current_citInitial": 1,
   "eqLabelWithNumbers": true,
   "eqNumInitial": 1,
   "hotkeys": {
    "equation": "Ctrl-E",
    "itemize": "Ctrl-I"
   },
   "labels_anchors": false,
   "latex_user_defs": false,
   "report_style_numbering": false,
   "user_envs_cfg": false
  },
  "toc": {
   "base_numbering": 1,
   "nav_menu": {},
   "number_sections": true,
   "sideBar": true,
   "skip_h1_title": false,
   "title_cell": "Table of Contents",
   "title_sidebar": "Contents",
   "toc_cell": false,
   "toc_position": {},
   "toc_section_display": true,
   "toc_window_display": false
  },
  "varInspector": {
   "cols": {
    "lenName": 16,
    "lenType": 16,
    "lenVar": 40
   },
   "kernels_config": {
    "python": {
     "delete_cmd_postfix": "",
     "delete_cmd_prefix": "del ",
     "library": "var_list.py",
     "varRefreshCmd": "print(var_dic_list())"
    },
    "r": {
     "delete_cmd_postfix": ") ",
     "delete_cmd_prefix": "rm(",
     "library": "var_list.r",
     "varRefreshCmd": "cat(var_dic_list()) "
    }
   },
   "types_to_exclude": [
    "module",
    "function",
    "builtin_function_or_method",
    "instance",
    "_Feature"
   ],
   "window_display": false
  }
 },
 "nbformat": 4,
 "nbformat_minor": 4
}